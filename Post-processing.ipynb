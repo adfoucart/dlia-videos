{
 "cells": [
  {
   "cell_type": "markdown",
   "id": "tropical-theorem",
   "metadata": {},
   "source": [
    "# Post-processing\n",
    "\n",
    "Output of model will be segmentation probabilities.\n",
    "\n",
    "We need to get labeled regions.\n",
    "\n",
    "Mains steps:\n",
    "\n",
    "* Binarize\n",
    "* Label\n",
    "* Remove small objects\n",
    "* Close holes inside objects"
   ]
  },
  {
   "cell_type": "code",
   "execution_count": 1,
   "id": "mobile-spending",
   "metadata": {},
   "outputs": [],
   "source": [
    "from skimage.measure import label, regionprops\n",
    "\n",
    "min_area = 15\n",
    "def post_process(mask):\n",
    "    lab = label(mask)\n",
    "    for obj in regionprops(lab):\n",
    "        if( obj.area < min_area ):\n",
    "            lab[lab==obj.label] = 0\n",
    "        lab[obj.bbox[0]:obj.bbox[2],obj.bbox[1]:obj.bbox[3]] = obj.filled_image*obj.label\n",
    "    \n",
    "    return lab"
   ]
  }
 ],
 "metadata": {
  "kernelspec": {
   "display_name": "Python 3",
   "language": "python",
   "name": "python3"
  },
  "language_info": {
   "codemirror_mode": {
    "name": "ipython",
    "version": 3
   },
   "file_extension": ".py",
   "mimetype": "text/x-python",
   "name": "python",
   "nbconvert_exporter": "python",
   "pygments_lexer": "ipython3",
   "version": "3.7.10"
  }
 },
 "nbformat": 4,
 "nbformat_minor": 5
}
